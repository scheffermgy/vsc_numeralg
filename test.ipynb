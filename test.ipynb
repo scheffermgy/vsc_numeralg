{
 "cells": [
  {
   "cell_type": "code",
   "execution_count": 1,
   "id": "e40d227e",
   "metadata": {},
   "outputs": [
    {
     "name": "stdout",
     "output_type": "stream",
     "text": [
      "hello world\n"
     ]
    }
   ],
   "source": [
    "print('hello world')"
   ]
  },
  {
   "cell_type": "code",
   "execution_count": 2,
   "id": "1f3fd027",
   "metadata": {},
   "outputs": [],
   "source": [
    "import numpy as np "
   ]
  },
  {
   "cell_type": "code",
   "execution_count": 8,
   "id": "2c5e2918",
   "metadata": {},
   "outputs": [
    {
     "name": "stdout",
     "output_type": "stream",
     "text": [
      "3\n",
      "Solution (loop-based): [ 9.95622754e+95 -1.84901369e+96  1.42231822e+96]\n"
     ]
    }
   ],
   "source": [
    "A = np.array([[4.0, 1.0, 2.0],\n",
    "              [3.0, 5.0, 1.0],\n",
    "              [1.0, 1.0, 3.0]])\n",
    "b = np.array([4.0, 7.0, 3.0])\n",
    "print(len(b))\n",
    "\n",
    "tol = 0.1\n",
    "max_iter = 1000\n",
    "\n",
    "def gauss(A, b):\n",
    "    x = np.zeros(len(b))\n",
    "    n = 0\n",
    "    while True: \n",
    "        for i in range(len(b)):\n",
    "            x[i] = -1 / (A[i][i]) * (np.sum(np.multiply(x, A[i])) - b[i])\n",
    "        n += 1 \n",
    "        if n > max_iter:\n",
    "            break\n",
    "    return x\n",
    "\n",
    "\n",
    "\n",
    "            \n",
    "\n",
    "x_sol = gauss(A, b)\n",
    "print(\"Solution (loop-based):\", x_sol)"
   ]
  }
 ],
 "metadata": {
  "kernelspec": {
   "display_name": "Python 3",
   "language": "python",
   "name": "python3"
  },
  "language_info": {
   "codemirror_mode": {
    "name": "ipython",
    "version": 3
   },
   "file_extension": ".py",
   "mimetype": "text/x-python",
   "name": "python",
   "nbconvert_exporter": "python",
   "pygments_lexer": "ipython3",
   "version": "3.13.8"
  }
 },
 "nbformat": 4,
 "nbformat_minor": 5
}
